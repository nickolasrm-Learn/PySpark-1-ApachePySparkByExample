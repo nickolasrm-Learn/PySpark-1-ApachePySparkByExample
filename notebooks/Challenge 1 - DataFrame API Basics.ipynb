{
 "cells": [
  {
   "cell_type": "code",
   "execution_count": 1,
   "id": "e6181d1f-e867-456d-b35b-0850a71fbda4",
   "metadata": {},
   "outputs": [],
   "source": [
    "# Imports\n",
    "from pyspark import SparkContext\n",
    "from pyspark.sql import SparkSession"
   ]
  },
  {
   "cell_type": "code",
   "execution_count": 2,
   "id": "b10a8792-8d98-494e-bec9-e13a0bece19c",
   "metadata": {},
   "outputs": [
    {
     "data": {
      "text/html": [
       "\n",
       "            <div>\n",
       "                <p><b>SparkSession - in-memory</b></p>\n",
       "                \n",
       "        <div>\n",
       "            <p><b>SparkContext</b></p>\n",
       "\n",
       "            <p><a href=\"http://host.docker.internal:4040\">Spark UI</a></p>\n",
       "\n",
       "            <dl>\n",
       "              <dt>Version</dt>\n",
       "                <dd><code>v3.3.1</code></dd>\n",
       "              <dt>Master</dt>\n",
       "                <dd><code>local[*]</code></dd>\n",
       "              <dt>AppName</dt>\n",
       "                <dd><code>pyspark-shell</code></dd>\n",
       "            </dl>\n",
       "        </div>\n",
       "        \n",
       "            </div>\n",
       "        "
      ],
      "text/plain": [
       "<pyspark.sql.session.SparkSession at 0x21a19526fd0>"
      ]
     },
     "execution_count": 2,
     "metadata": {},
     "output_type": "execute_result"
    }
   ],
   "source": [
    "# Creating spark\n",
    "spark = SparkSession.builder.getOrCreate()\n",
    "spark.conf.set(\"spark.sql.repl.eagerEval.enabled\", True)\n",
    "spark"
   ]
  },
  {
   "cell_type": "code",
   "execution_count": 3,
   "id": "ea7fe3ff-e645-43e0-a816-8580a112db0e",
   "metadata": {},
   "outputs": [
    {
     "data": {
      "text/html": [
       "<table border='1'>\n",
       "<tr><th>ID</th><th>Case Number</th><th>Date</th><th>Block</th><th>IUCR</th><th>Primary Type</th><th>Description</th><th>Location Description</th><th>Arrest</th><th>Domestic</th><th>Beat</th><th>District</th><th>Ward</th><th>Community Area</th><th>FBI Code</th><th>X Coordinate</th><th>Y Coordinate</th><th>Year</th><th>Updated On</th><th>Latitude</th><th>Longitude</th><th>Location</th></tr>\n",
       "<tr><td>10224738</td><td>HY411648</td><td>09/05/2015 01:30:...</td><td>043XX S WOOD ST</td><td>0486</td><td>BATTERY</td><td>DOMESTIC BATTERY ...</td><td>RESIDENCE</td><td>false</td><td>true</td><td>924</td><td>9</td><td>12</td><td>61</td><td>08B</td><td>1165074</td><td>1875917</td><td>2015</td><td>02/10/2018 03:50:...</td><td>41.815117282</td><td>-87.669999562</td><td>(41.815117282, -8...</td></tr>\n",
       "<tr><td>10224739</td><td>HY411615</td><td>09/04/2015 11:30:...</td><td>008XX N CENTRAL AVE</td><td>0870</td><td>THEFT</td><td>POCKET-PICKING</td><td>CTA BUS</td><td>false</td><td>false</td><td>1511</td><td>15</td><td>29</td><td>25</td><td>06</td><td>1138875</td><td>1904869</td><td>2015</td><td>02/10/2018 03:50:...</td><td>41.895080471</td><td>-87.765400451</td><td>(41.895080471, -8...</td></tr>\n",
       "<tr><td>11646166</td><td>JC213529</td><td>09/01/2018 12:01:...</td><td>082XX S INGLESIDE...</td><td>0810</td><td>THEFT</td><td>OVER $500</td><td>RESIDENCE</td><td>false</td><td>true</td><td>631</td><td>6</td><td>8</td><td>44</td><td>06</td><td>null</td><td>null</td><td>2018</td><td>04/06/2019 04:04:...</td><td>null</td><td>null</td><td>null</td></tr>\n",
       "<tr><td>10224740</td><td>HY411595</td><td>09/05/2015 12:45:...</td><td>035XX W BARRY AVE</td><td>2023</td><td>NARCOTICS</td><td>POSS: HEROIN(BRN/...</td><td>SIDEWALK</td><td>true</td><td>false</td><td>1412</td><td>14</td><td>35</td><td>21</td><td>18</td><td>1152037</td><td>1920384</td><td>2015</td><td>02/10/2018 03:50:...</td><td>41.937405765</td><td>-87.716649687</td><td>(41.937405765, -8...</td></tr>\n",
       "<tr><td>10224741</td><td>HY411610</td><td>09/05/2015 01:00:...</td><td>0000X N LARAMIE AVE</td><td>0560</td><td>ASSAULT</td><td>SIMPLE</td><td>APARTMENT</td><td>false</td><td>true</td><td>1522</td><td>15</td><td>28</td><td>25</td><td>08A</td><td>1141706</td><td>1900086</td><td>2015</td><td>02/10/2018 03:50:...</td><td>41.881903443</td><td>-87.755121152</td><td>(41.881903443, -8...</td></tr>\n",
       "</table>\n"
      ],
      "text/plain": [
       "+--------+-----------+--------------------+--------------------+----+------------+--------------------+--------------------+------+--------+----+--------+----+--------------+--------+------------+------------+----+--------------------+------------+-------------+--------------------+\n",
       "|      ID|Case Number|                Date|               Block|IUCR|Primary Type|         Description|Location Description|Arrest|Domestic|Beat|District|Ward|Community Area|FBI Code|X Coordinate|Y Coordinate|Year|          Updated On|    Latitude|    Longitude|            Location|\n",
       "+--------+-----------+--------------------+--------------------+----+------------+--------------------+--------------------+------+--------+----+--------+----+--------------+--------+------------+------------+----+--------------------+------------+-------------+--------------------+\n",
       "|10224738|   HY411648|09/05/2015 01:30:...|     043XX S WOOD ST|0486|     BATTERY|DOMESTIC BATTERY ...|           RESIDENCE| false|    true| 924|       9|  12|            61|     08B|     1165074|     1875917|2015|02/10/2018 03:50:...|41.815117282|-87.669999562|(41.815117282, -8...|\n",
       "|10224739|   HY411615|09/04/2015 11:30:...| 008XX N CENTRAL AVE|0870|       THEFT|      POCKET-PICKING|             CTA BUS| false|   false|1511|      15|  29|            25|      06|     1138875|     1904869|2015|02/10/2018 03:50:...|41.895080471|-87.765400451|(41.895080471, -8...|\n",
       "|11646166|   JC213529|09/01/2018 12:01:...|082XX S INGLESIDE...|0810|       THEFT|           OVER $500|           RESIDENCE| false|    true| 631|       6|   8|            44|      06|        null|        null|2018|04/06/2019 04:04:...|        null|         null|                null|\n",
       "|10224740|   HY411595|09/05/2015 12:45:...|   035XX W BARRY AVE|2023|   NARCOTICS|POSS: HEROIN(BRN/...|            SIDEWALK|  true|   false|1412|      14|  35|            21|      18|     1152037|     1920384|2015|02/10/2018 03:50:...|41.937405765|-87.716649687|(41.937405765, -8...|\n",
       "|10224741|   HY411610|09/05/2015 01:00:...| 0000X N LARAMIE AVE|0560|     ASSAULT|              SIMPLE|           APARTMENT| false|    true|1522|      15|  28|            25|     08A|     1141706|     1900086|2015|02/10/2018 03:50:...|41.881903443|-87.755121152|(41.881903443, -8...|\n",
       "+--------+-----------+--------------------+--------------------+----+------------+--------------------+--------------------+------+--------+----+--------+----+--------------+--------+------------+------------+----+--------------------+------------+-------------+--------------------+"
      ]
     },
     "execution_count": 3,
     "metadata": {},
     "output_type": "execute_result"
    }
   ],
   "source": [
    "# Reading dataframe\n",
    "df = spark.read.csv(\"../data/reported-crimes.csv\", inferSchema=True, header=True)\n",
    "df.limit(5)"
   ]
  },
  {
   "cell_type": "code",
   "execution_count": 4,
   "id": "c70b8a46-aa59-4932-8352-441978dd3810",
   "metadata": {},
   "outputs": [],
   "source": [
    "# Question 1: Find the percentage of crimes that resulted in arrest"
   ]
  },
  {
   "cell_type": "code",
   "execution_count": 5,
   "id": "8d4b800a-1883-45b7-bc81-a13c64808c17",
   "metadata": {},
   "outputs": [
    {
     "data": {
      "text/plain": [
       "0.27504804386875736"
      ]
     },
     "execution_count": 5,
     "metadata": {},
     "output_type": "execute_result"
    }
   ],
   "source": [
    "arrest_pct = df.filter(\"arrest == True\").count() / df.count()\n",
    "arrest_pct"
   ]
  },
  {
   "cell_type": "code",
   "execution_count": 6,
   "id": "ae2134db-865e-4863-aa2a-7c5bdbe1c6ad",
   "metadata": {},
   "outputs": [],
   "source": [
    "# Question 2: Find the top 3 locations for reported crimes"
   ]
  },
  {
   "cell_type": "code",
   "execution_count": 7,
   "id": "b29a747b-a117-4758-b797-e20e7f5acd5d",
   "metadata": {},
   "outputs": [
    {
     "data": {
      "text/html": [
       "<table border='1'>\n",
       "<tr><th>Location Description</th><th>count</th></tr>\n",
       "<tr><td>STREET</td><td>1052568</td></tr>\n",
       "<tr><td>RESIDENCE</td><td>677794</td></tr>\n",
       "<tr><td>APARTMENT</td><td>377041</td></tr>\n",
       "</table>\n"
      ],
      "text/plain": [
       "+--------------------+-------+\n",
       "|Location Description|  count|\n",
       "+--------------------+-------+\n",
       "|              STREET|1052568|\n",
       "|           RESIDENCE| 677794|\n",
       "|           APARTMENT| 377041|\n",
       "+--------------------+-------+"
      ]
     },
     "execution_count": 7,
     "metadata": {},
     "output_type": "execute_result"
    }
   ],
   "source": [
    "location_count = df.groupBy(\"Location Description\").count()\n",
    "location_count = location_count.sort(\"count\", ascending=False)\n",
    "location_count.limit(3)"
   ]
  }
 ],
 "metadata": {
  "kernelspec": {
   "display_name": "Python 3 (ipykernel)",
   "language": "python",
   "name": "python3"
  },
  "language_info": {
   "codemirror_mode": {
    "name": "ipython",
    "version": 3
   },
   "file_extension": ".py",
   "mimetype": "text/x-python",
   "name": "python",
   "nbconvert_exporter": "python",
   "pygments_lexer": "ipython3",
   "version": "3.9.13"
  }
 },
 "nbformat": 4,
 "nbformat_minor": 5
}
